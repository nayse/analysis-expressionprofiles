{
  "nbformat": 4,
  "nbformat_minor": 0,
  "metadata": {
    "colab": {
      "name": "expression-analyses_R",
      "provenance": [],
      "collapsed_sections": [],
      "include_colab_link": true
    },
    "kernelspec": {
      "name": "ir",
      "display_name": "R"
    },
    "language_info": {
      "name": "R"
    }
  },
  "cells": [
    {
      "cell_type": "markdown",
      "metadata": {
        "id": "view-in-github",
        "colab_type": "text"
      },
      "source": [
        "<a href=\"https://colab.research.google.com/github/nayse/analysis-expressionprofiles/blob/main/expression_analyses_R.ipynb\" target=\"_parent\"><img src=\"https://colab.research.google.com/assets/colab-badge.svg\" alt=\"Open In Colab\"/></a>"
      ]
    },
    {
      "cell_type": "markdown",
      "metadata": {
        "id": "18vSiaw9PFzy"
      },
      "source": [
        "### Date: 06/27/2021"
      ]
    },
    {
      "cell_type": "code",
      "metadata": {
        "id": "dFhmwNbLQURK"
      },
      "source": [
        ""
      ],
      "execution_count": null,
      "outputs": []
    },
    {
      "cell_type": "markdown",
      "metadata": {
        "id": "vIrMiUEYDaGD"
      },
      "source": [
        "GDCRNATools package installation"
      ]
    },
    {
      "cell_type": "code",
      "metadata": {
        "id": "SskxqWZEDU0_"
      },
      "source": [
        "if (!requireNamespace(\"BiocManager\", quietly=TRUE))\n",
        "  install.packages(\"BiocManager\")"
      ],
      "execution_count": null,
      "outputs": []
    },
    {
      "cell_type": "code",
      "metadata": {
        "id": "Z-82PmSnDc5y"
      },
      "source": [
        "BiocManager::install(\"GDCRNATools\")"
      ],
      "execution_count": null,
      "outputs": []
    },
    {
      "cell_type": "code",
      "metadata": {
        "id": "d7cLgok0DhLx"
      },
      "source": [
        "library(GDCRNATools)"
      ],
      "execution_count": null,
      "outputs": []
    },
    {
      "cell_type": "markdown",
      "metadata": {
        "id": "6-3b1xhdDj_3"
      },
      "source": [
        "CancerSubtypes package installation"
      ]
    },
    {
      "cell_type": "code",
      "metadata": {
        "id": "qTXVBbNPEXbF"
      },
      "source": [
        "BiocManager::install(\"CancerSubtypes\")"
      ],
      "execution_count": null,
      "outputs": []
    },
    {
      "cell_type": "markdown",
      "metadata": {
        "id": "LC7HVRISEa9s"
      },
      "source": [
        "install packages seperately"
      ]
    },
    {
      "cell_type": "code",
      "metadata": {
        "id": "OjWvA-ReEfnW"
      },
      "source": [
        "BiocManager::install('limma')\n",
        "BiocManager::install('edgeR')\n",
        "BiocManager::install('DESeq2')\n",
        "BiocManager::install('clusterProfiler')\n",
        "BiocManager::install('DOSE')\n",
        "BiocManager::install('org.Hs.eg.db')\n",
        "BiocManager::install('biomaRt')\n",
        "BiocManager::install('BiocParallel')\n",
        "BiocManager::install('GenomicDataCommons')"
      ],
      "execution_count": null,
      "outputs": []
    },
    {
      "cell_type": "code",
      "metadata": {
        "id": "6AtbaFiaEn_e"
      },
      "source": [
        "install.packages('shiny')\n",
        "install.packages('jsonlite')\n",
        "install.packages('rjson')\n",
        "install.packages('survival')\n",
        "install.packages('survminer')\n",
        "install.packages('ggplot2')\n",
        "install.packages('gplots')\n",
        "install.packages('Hmisc')\n",
        "install.packages('DT')\n",
        "install.packages('matrixStats')\n",
        "install.packages('xml2')"
      ],
      "execution_count": null,
      "outputs": []
    },
    {
      "cell_type": "markdown",
      "metadata": {
        "id": "3N5EsF3KEl7M"
      },
      "source": [
        "Download RNA and mature miRNA expression data"
      ]
    },
    {
      "cell_type": "code",
      "metadata": {
        "id": "64T4qly3E3ys"
      },
      "source": [
        "project <- 'TCGA-BLCA'\n",
        "rnadir <- paste(project, 'RNAseq', sep='/')\n",
        "mirdir <- paste(project, 'miRNAs', sep='/')"
      ],
      "execution_count": null,
      "outputs": []
    },
    {
      "cell_type": "markdown",
      "metadata": {
        "id": "sjk_GV7fFVeQ"
      },
      "source": [
        "Download RNAseq data"
      ]
    },
    {
      "cell_type": "code",
      "metadata": {
        "id": "Ij4Rjgt6FYED"
      },
      "source": [
        "gdcRNADownload(project.id     = 'TCGA-BLCA', \n",
        "               data.type      = 'RNAseq', \n",
        "               write.manifest = FALSE,\n",
        "               method         = 'gdc-client',\n",
        "               directory      = rnadir)"
      ],
      "execution_count": null,
      "outputs": []
    },
    {
      "cell_type": "markdown",
      "metadata": {
        "id": "ISjciz21FahW"
      },
      "source": [
        "Download mature miRNA data"
      ]
    },
    {
      "cell_type": "code",
      "metadata": {
        "id": "KGaDUr1dFd2B"
      },
      "source": [
        "gdcRNADownload(project.id     = 'TCGA-BLCA', \n",
        "               data.type      = 'miRNAs', \n",
        "               write.manifest = FALSE,\n",
        "               method         = 'gdc-client',\n",
        "               directory      = mirdir)"
      ],
      "execution_count": null,
      "outputs": []
    },
    {
      "cell_type": "markdown",
      "metadata": {
        "id": "iQZ4-ee8Fgwf"
      },
      "source": [
        "Download clinical data"
      ]
    },
    {
      "cell_type": "code",
      "metadata": {
        "id": "n1Vq1x8qFja2"
      },
      "source": [
        "clinicaldir <- paste(project, 'Clinical', sep='/')\n",
        "gdcClinicalDownload(project.id     = 'TCGA-BLCA', \n",
        "                    write.manifest = FALSE,\n",
        "                    method         = 'gdc-client',\n",
        "                    directory      = clinicaldir)"
      ],
      "execution_count": null,
      "outputs": []
    },
    {
      "cell_type": "markdown",
      "metadata": {
        "id": "Uih96WVUFmOo"
      },
      "source": [
        "Date: 06/28/2021"
      ]
    },
    {
      "cell_type": "markdown",
      "metadata": {
        "id": "TlkAqB_4Fpof"
      },
      "source": [
        "Install the latest version of TCGAbiolinks (Version:2.5.2)"
      ]
    },
    {
      "cell_type": "code",
      "metadata": {
        "id": "0DVei6hTF6U9"
      },
      "source": [
        "install.packages(\"devtools\") devtools::install_github(repo = \"BioinformaticsFMRP/TCGAbiolinks\") library(\"TCGAbiolinks\") "
      ],
      "execution_count": null,
      "outputs": []
    },
    {
      "cell_type": "code",
      "metadata": {
        "id": "9Cl7QuKFGEri"
      },
      "source": [
        "library(\"SummarizedExperiment\") library(\"CancerSubtypes\")"
      ],
      "execution_count": null,
      "outputs": []
    },
    {
      "cell_type": "markdown",
      "metadata": {
        "id": "K8ueVlTdGHVR"
      },
      "source": [
        "Parse RNAseq metadata"
      ]
    },
    {
      "cell_type": "code",
      "metadata": {
        "id": "c14461w3GKXr"
      },
      "source": [
        "metaMatrix.RNA <- gdcParseMetadata(project.id = 'TCGA-BLCA', data.type = 'RNAseq', write.meta = FALSE)"
      ],
      "execution_count": null,
      "outputs": []
    },
    {
      "cell_type": "markdown",
      "metadata": {
        "id": "4E7q-r4lGUqA"
      },
      "source": [
        "Filter duplicated samples in RNAseq metadata"
      ]
    },
    {
      "cell_type": "code",
      "metadata": {
        "id": "4WSukpN5GXwl"
      },
      "source": [
        "metaMatrix.RNA <- gdcFilterDuplicate(metaMatrix.RNA)"
      ],
      "execution_count": null,
      "outputs": []
    },
    {
      "cell_type": "markdown",
      "metadata": {
        "id": "jFjuEqERGal8"
      },
      "source": [
        "Filter non-Primary Tumor and non-Solid Tissue Normal samples in RNAseq metadata"
      ]
    },
    {
      "cell_type": "code",
      "metadata": {
        "id": "mbJUL-ykGc1Z"
      },
      "source": [
        "metaMatrix.RNA <- gdcFilterSampleType(metaMatrix.RNA)"
      ],
      "execution_count": null,
      "outputs": []
    },
    {
      "cell_type": "markdown",
      "metadata": {
        "id": "jiKgvf9EGgGJ"
      },
      "source": [
        "Parse miRNAs metadata"
      ]
    },
    {
      "cell_type": "code",
      "metadata": {
        "id": "nmHQxtAmGp1T"
      },
      "source": [
        "metaMatrix.MIR <- gdcParseMetadata(project.id = 'TCGA-BLCA', data.type = 'miRNAs', write.meta = FALSE)"
      ],
      "execution_count": null,
      "outputs": []
    },
    {
      "cell_type": "markdown",
      "metadata": {
        "id": "BKdphfvDGtFk"
      },
      "source": [
        "Filter duplicated samples in miRNAs metadata"
      ]
    },
    {
      "cell_type": "code",
      "metadata": {
        "id": "J9AvnwIwGv2G"
      },
      "source": [
        "metaMatrix.MIR <- gdcFilterDuplicate(metaMatrix.MIR)"
      ],
      "execution_count": null,
      "outputs": []
    },
    {
      "cell_type": "markdown",
      "metadata": {
        "id": "Dm3mi012GyF0"
      },
      "source": [
        "Filter non-Primary Tumor and non-Solid Tissue Normal samples in miRNAs metadata"
      ]
    },
    {
      "cell_type": "code",
      "metadata": {
        "id": "-FLVWqfFG0yY"
      },
      "source": [
        "metaMatrix.MIR <- gdcFilterSampleType(metaMatrix.MIR)"
      ],
      "execution_count": null,
      "outputs": []
    },
    {
      "cell_type": "markdown",
      "metadata": {
        "id": "8rUZ2PmkG4Mu"
      },
      "source": [
        "Merge RNAseq data"
      ]
    },
    {
      "cell_type": "code",
      "metadata": {
        "id": "0XQ-InfOG8FG"
      },
      "source": [
        "rnaCounts <- gdcRNAMerge(metadata = metaMatrix.RNA, path = \"C:/Users/Genilda/Documents/Doutorado_Genilda Castro de Omena Neta/TCGA-BLCA/RNAseq\", # the folder in which the data stored organized = FALSE, # if the data are in separate folders data.type = 'RNAseq')\n"
      ],
      "execution_count": null,
      "outputs": []
    },
    {
      "cell_type": "markdown",
      "metadata": {
        "id": "yORCesdzHBAT"
      },
      "source": [
        "Merge miRNAs data"
      ]
    },
    {
      "cell_type": "code",
      "metadata": {
        "id": "1yXf5PhcHAQf"
      },
      "source": [
        "mirCounts <- gdcRNAMerge(metadata = metaMatrix.MIR, path = \"C:/Users/Genilda/Documents/Doutorado_Genilda Castro de Omena Neta/TCGA-BLCA/miRNAs\", # the folder in which the data stored organized = FALSE, # if the data are in separate folders data.type = 'miRNAs')"
      ],
      "execution_count": null,
      "outputs": []
    },
    {
      "cell_type": "markdown",
      "metadata": {
        "id": "SRAyxdtzHG51"
      },
      "source": [
        "Merge clinical data"
      ]
    },
    {
      "cell_type": "code",
      "metadata": {
        "id": "CuQ-2kvXHMgn"
      },
      "source": [
        "clinicalDa <- gdcClinicalMerge(path = \"C:/Users/Genilda/Documents/Doutorado_Genilda Castro de Omena Neta/TCGA-BLCA/Clinical\", key.info = TRUE)"
      ],
      "execution_count": null,
      "outputs": []
    },
    {
      "cell_type": "code",
      "metadata": {
        "id": "ppdOahKiHPd7"
      },
      "source": [
        "clinicalDa[1:6,5:10]"
      ],
      "execution_count": null,
      "outputs": []
    },
    {
      "cell_type": "markdown",
      "metadata": {
        "id": "-s7-4obyHRiC"
      },
      "source": [
        "Normalization of RNAseq data"
      ]
    },
    {
      "cell_type": "code",
      "metadata": {
        "id": "z1m-gGu1HVh1"
      },
      "source": [
        "rnaExpr <- gdcVoomNormalization(counts = rnaCounts, filter = FALSE)"
      ],
      "execution_count": null,
      "outputs": []
    },
    {
      "cell_type": "markdown",
      "metadata": {
        "id": "O6iROslCHYlP"
      },
      "source": [
        "Normalization of miRNAs data"
      ]
    },
    {
      "cell_type": "markdown",
      "metadata": {
        "id": "EGRNp72IHcUG"
      },
      "source": [
        "mirExpr <- gdcVoomNormalization(counts = mirCounts, filter = FALSE)"
      ]
    },
    {
      "cell_type": "markdown",
      "metadata": {
        "id": "fJNeoqNl38_T"
      },
      "source": [
        "## **Features**\n",
        "\n",
        "\n",
        "\n",
        "\n"
      ]
    },
    {
      "cell_type": "code",
      "metadata": {
        "id": "Y0JRntXH95wc"
      },
      "source": [
        "library(CancerSubtypes)\n",
        "library(\"RTCGA.mRNA\")\n",
        "rm(list = ls())\n",
        "data(BRCA.mRNA)\n",
        "mRNA=t(as.matrix(BRCA.mRNA[,-1]))\n",
        "colnames(mRNA)=BRCA.mRNA[,1]\n",
        "\n",
        "index=which(is.na(mRNA))\n",
        "res1=data.imputation(mRNA,fun=\"median\")\n",
        "res2=data.imputation(mRNA,fun=\"mean\")\n",
        "res3=data.imputation(mRNA,fun=\"microarray\")\n",
        "\n",
        "\n",
        "result1=data.normalization(mRNA,type=\"feature_Median\",log2=FALSE)\n",
        "result2=data.normalization(mRNA,type=\"feature_zscore\",log2=FALSE)\n",
        "\n",
        "#Clustering Method\n",
        "#Execute iCluster (Integrative clustering of multiple genomic data)\n",
        "library(CancerSubtypes)\n",
        "ExecuteiCluster(mRNA, \n",
        "                k, \n",
        "                lambda = NULL, \n",
        "                scale = TRUE, \n",
        "                scalar = FALSE,\n",
        "                max.iter = 10)\n",
        "\n",
        "#LASSO algorithm conducted by “glmnet” package\n",
        "library(glmnet)\n",
        "data(BRCA.mRNA)\n",
        "mRNA=t(as.matrix(BRCA.mRNA[,-1]))\n",
        "x <- mRNA #input matrix\n",
        "y <- QuickStartExample$y #qual vetor? #response vector\n",
        "fit <- glmnet(x, y)\n",
        "#View the coefficient \n",
        "plot(fit)\n",
        "\n",
        "\n",
        "#Cox regression model.\n",
        "data(GeneExp)\n",
        "data(time)\n",
        "data(status)\n",
        "data1=FSbyCox(GeneExp,time,status,cutoff=0.05)\n",
        "\n",
        "# Load required packages #Kaplan-Meier method\n",
        "install.packages(survival)\n",
        "install.packages(survminer)\n",
        "install.packages(dplyr)\n",
        "library(survival)\n",
        "library(survminer)\n",
        "library(dplyr)\n",
        "\n",
        "data(BRCA.mRNA)\n",
        "glimpse(BRCA.mRNA)\n",
        "# Fit survival data using the Kaplan-Meier method\n",
        "surv_object <- Surv(time = data$futime, event = data$fustat)\n",
        "surv_object \n"
      ],
      "execution_count": null,
      "outputs": []
    },
    {
      "cell_type": "code",
      "metadata": {
        "id": "gZ2OuxoKDIY-"
      },
      "source": [
        ""
      ],
      "execution_count": null,
      "outputs": []
    }
  ]
}